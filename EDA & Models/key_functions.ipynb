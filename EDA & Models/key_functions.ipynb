{
  "cells": [
    {
      "cell_type": "code",
      "source": [
        "# CONSTANTS\n",
        "# JW uses the following convention: X-axis is short, origin at lower left\n",
        "\n",
        "RATIO = 3/5 # field is 100 ft by 60 ft\n",
        "X_size_yd = 60\n",
        "Y_size_yd = 100\n",
        "fh_background_size = (600,1000) # size of background image -> scale everything by 10 for plotting\n",
        "PLOT_SCALE = 10"
      ],
      "metadata": {
        "id": "sOTBl3smPuq4"
      },
      "execution_count": null,
      "outputs": []
    },
    {
      "cell_type": "code",
      "source": [
        "# update this as needed\n",
        "start_times_dict = {'Temple': '12:00:00',\n",
        "                    'BostonCollege': '15:05:25', # verified\n",
        "                    'Cornell': '14:00:00',\n",
        "                    'Northwestern': '15:07:10', # verified\n",
        "                    'Harvard': '15:06:30', # verified\n",
        "                    'Brown': '12:09:05', # verified\n",
        "                    'Dartmouth': '11:00:00',\n",
        "                    'Villanova': '12:00:00',\n",
        "                    'Drexel': '12:00:00',\n",
        "                    'LIU': '12:09:30', # verified\n",
        "                    'Delaware': '13:12:00', # verified\n",
        "                    'Columbia': '15:09:00', # verified\n",
        "                    'Quinnipiac': '13:00:00',\n",
        "                    'Princeton': '16:00:00',\n",
        "                    'Yale': '12:07:49'}"
      ],
      "metadata": {
        "id": "UPRREgCx85Iy"
      },
      "execution_count": null,
      "outputs": []
    },
    {
      "cell_type": "markdown",
      "source": [
        "# Load data for testing"
      ],
      "metadata": {
        "id": "2JPrwU2Nyt80"
      }
    },
    {
      "cell_type": "code",
      "source": [
        "import numpy as np\n",
        "import pandas as pd\n",
        "import matplotlib.pyplot as plt\n",
        "from datetime import datetime, timedelta\n",
        "\n",
        "# import gdrive\n",
        "from google.colab import drive\n",
        "drive.mount('/content/drive')"
      ],
      "metadata": {
        "colab": {
          "base_uri": "https://localhost:8080/"
        },
        "id": "db4pM6lstaX7",
        "outputId": "e6b34107-9976-4b23-d334-628a06fa68a5"
      },
      "execution_count": null,
      "outputs": [
        {
          "output_type": "stream",
          "name": "stdout",
          "text": [
            "Drive already mounted at /content/drive; to attempt to forcibly remount, call drive.mount(\"/content/drive\", force_remount=True).\n"
          ]
        }
      ]
    },
    {
      "cell_type": "code",
      "source": [
        "GPS_data = pd.read_csv(\"/content/drive/MyDrive/PennAthletics/Team_Internal/Data/Processed Data/GPS_Data_appended.csv\", sep=\",\", index_col=0)\n",
        "GPS_data.head(2)"
      ],
      "metadata": {
        "colab": {
          "base_uri": "https://localhost:8080/",
          "height": 208
        },
        "id": "N0kriDn4yP1s",
        "outputId": "f85af084-2748-4cff-8572-b92bac5de755"
      },
      "execution_count": null,
      "outputs": [
        {
          "output_type": "execute_result",
          "data": {
            "text/plain": [
              "   Excel Timestamp     Speed   Accel Z  Heart Rate athlete           game  \\\n",
              "0     44813.615449  2.182240  0.295216           8     A15  BostonCollege   \n",
              "1     44813.615451  2.204462  0.703617           8     A15  BostonCollege   \n",
              "\n",
              "   date                Timestamp    X_frac    Y_frac  Planar Accel  \\\n",
              "0    99  2022-09-09 14:46:14.800  0.195103  0.727582      0.089309   \n",
              "1    99  2022-09-09 14:46:15.000  0.194292  0.731782      1.062688   \n",
              "\n",
              "   Rolling Avg Speed  \n",
              "0           2.182240  \n",
              "1           2.193351  "
            ],
            "text/html": [
              "\n",
              "  <div id=\"df-17387698-f818-419e-babc-b887a68df906\">\n",
              "    <div class=\"colab-df-container\">\n",
              "      <div>\n",
              "<style scoped>\n",
              "    .dataframe tbody tr th:only-of-type {\n",
              "        vertical-align: middle;\n",
              "    }\n",
              "\n",
              "    .dataframe tbody tr th {\n",
              "        vertical-align: top;\n",
              "    }\n",
              "\n",
              "    .dataframe thead th {\n",
              "        text-align: right;\n",
              "    }\n",
              "</style>\n",
              "<table border=\"1\" class=\"dataframe\">\n",
              "  <thead>\n",
              "    <tr style=\"text-align: right;\">\n",
              "      <th></th>\n",
              "      <th>Excel Timestamp</th>\n",
              "      <th>Speed</th>\n",
              "      <th>Accel Z</th>\n",
              "      <th>Heart Rate</th>\n",
              "      <th>athlete</th>\n",
              "      <th>game</th>\n",
              "      <th>date</th>\n",
              "      <th>Timestamp</th>\n",
              "      <th>X_frac</th>\n",
              "      <th>Y_frac</th>\n",
              "      <th>Planar Accel</th>\n",
              "      <th>Rolling Avg Speed</th>\n",
              "    </tr>\n",
              "  </thead>\n",
              "  <tbody>\n",
              "    <tr>\n",
              "      <th>0</th>\n",
              "      <td>44813.615449</td>\n",
              "      <td>2.182240</td>\n",
              "      <td>0.295216</td>\n",
              "      <td>8</td>\n",
              "      <td>A15</td>\n",
              "      <td>BostonCollege</td>\n",
              "      <td>99</td>\n",
              "      <td>2022-09-09 14:46:14.800</td>\n",
              "      <td>0.195103</td>\n",
              "      <td>0.727582</td>\n",
              "      <td>0.089309</td>\n",
              "      <td>2.182240</td>\n",
              "    </tr>\n",
              "    <tr>\n",
              "      <th>1</th>\n",
              "      <td>44813.615451</td>\n",
              "      <td>2.204462</td>\n",
              "      <td>0.703617</td>\n",
              "      <td>8</td>\n",
              "      <td>A15</td>\n",
              "      <td>BostonCollege</td>\n",
              "      <td>99</td>\n",
              "      <td>2022-09-09 14:46:15.000</td>\n",
              "      <td>0.194292</td>\n",
              "      <td>0.731782</td>\n",
              "      <td>1.062688</td>\n",
              "      <td>2.193351</td>\n",
              "    </tr>\n",
              "  </tbody>\n",
              "</table>\n",
              "</div>\n",
              "      <button class=\"colab-df-convert\" onclick=\"convertToInteractive('df-17387698-f818-419e-babc-b887a68df906')\"\n",
              "              title=\"Convert this dataframe to an interactive table.\"\n",
              "              style=\"display:none;\">\n",
              "        \n",
              "  <svg xmlns=\"http://www.w3.org/2000/svg\" height=\"24px\"viewBox=\"0 0 24 24\"\n",
              "       width=\"24px\">\n",
              "    <path d=\"M0 0h24v24H0V0z\" fill=\"none\"/>\n",
              "    <path d=\"M18.56 5.44l.94 2.06.94-2.06 2.06-.94-2.06-.94-.94-2.06-.94 2.06-2.06.94zm-11 1L8.5 8.5l.94-2.06 2.06-.94-2.06-.94L8.5 2.5l-.94 2.06-2.06.94zm10 10l.94 2.06.94-2.06 2.06-.94-2.06-.94-.94-2.06-.94 2.06-2.06.94z\"/><path d=\"M17.41 7.96l-1.37-1.37c-.4-.4-.92-.59-1.43-.59-.52 0-1.04.2-1.43.59L10.3 9.45l-7.72 7.72c-.78.78-.78 2.05 0 2.83L4 21.41c.39.39.9.59 1.41.59.51 0 1.02-.2 1.41-.59l7.78-7.78 2.81-2.81c.8-.78.8-2.07 0-2.86zM5.41 20L4 18.59l7.72-7.72 1.47 1.35L5.41 20z\"/>\n",
              "  </svg>\n",
              "      </button>\n",
              "      \n",
              "  <style>\n",
              "    .colab-df-container {\n",
              "      display:flex;\n",
              "      flex-wrap:wrap;\n",
              "      gap: 12px;\n",
              "    }\n",
              "\n",
              "    .colab-df-convert {\n",
              "      background-color: #E8F0FE;\n",
              "      border: none;\n",
              "      border-radius: 50%;\n",
              "      cursor: pointer;\n",
              "      display: none;\n",
              "      fill: #1967D2;\n",
              "      height: 32px;\n",
              "      padding: 0 0 0 0;\n",
              "      width: 32px;\n",
              "    }\n",
              "\n",
              "    .colab-df-convert:hover {\n",
              "      background-color: #E2EBFA;\n",
              "      box-shadow: 0px 1px 2px rgba(60, 64, 67, 0.3), 0px 1px 3px 1px rgba(60, 64, 67, 0.15);\n",
              "      fill: #174EA6;\n",
              "    }\n",
              "\n",
              "    [theme=dark] .colab-df-convert {\n",
              "      background-color: #3B4455;\n",
              "      fill: #D2E3FC;\n",
              "    }\n",
              "\n",
              "    [theme=dark] .colab-df-convert:hover {\n",
              "      background-color: #434B5C;\n",
              "      box-shadow: 0px 1px 3px 1px rgba(0, 0, 0, 0.15);\n",
              "      filter: drop-shadow(0px 1px 2px rgba(0, 0, 0, 0.3));\n",
              "      fill: #FFFFFF;\n",
              "    }\n",
              "  </style>\n",
              "\n",
              "      <script>\n",
              "        const buttonEl =\n",
              "          document.querySelector('#df-17387698-f818-419e-babc-b887a68df906 button.colab-df-convert');\n",
              "        buttonEl.style.display =\n",
              "          google.colab.kernel.accessAllowed ? 'block' : 'none';\n",
              "\n",
              "        async function convertToInteractive(key) {\n",
              "          const element = document.querySelector('#df-17387698-f818-419e-babc-b887a68df906');\n",
              "          const dataTable =\n",
              "            await google.colab.kernel.invokeFunction('convertToInteractive',\n",
              "                                                     [key], {});\n",
              "          if (!dataTable) return;\n",
              "\n",
              "          const docLinkHtml = 'Like what you see? Visit the ' +\n",
              "            '<a target=\"_blank\" href=https://colab.research.google.com/notebooks/data_table.ipynb>data table notebook</a>'\n",
              "            + ' to learn more about interactive tables.';\n",
              "          element.innerHTML = '';\n",
              "          dataTable['output_type'] = 'display_data';\n",
              "          await google.colab.output.renderOutput(dataTable, element);\n",
              "          const docLink = document.createElement('div');\n",
              "          docLink.innerHTML = docLinkHtml;\n",
              "          element.appendChild(docLink);\n",
              "        }\n",
              "      </script>\n",
              "    </div>\n",
              "  </div>\n",
              "  "
            ]
          },
          "metadata": {},
          "execution_count": 4
        }
      ]
    },
    {
      "cell_type": "markdown",
      "source": [
        "# Data Transformations\n",
        "\n",
        "For preprocessing"
      ],
      "metadata": {
        "id": "WIsPK1C7B30b"
      }
    },
    {
      "cell_type": "code",
      "source": [
        "# turn coordinates into scaled positions between 0 and 1 on field\n",
        "def project_coords(orig_coords, lr, ll, ul, ur):\n",
        "  x_axis = lr-ll # 1 by 2\n",
        "  y_axis = ul-ll # 1 by 2\n",
        "  from_origin = orig_coords-ll # n by 2\n",
        "  transform = np.vstack([x_axis, y_axis]).T\n",
        "  new_coords = np.linalg.inv(transform) @ from_origin.T # n by 2\n",
        "\n",
        "  return new_coords.T\n",
        "\n",
        "# test case\n",
        "orig_coords = np.array([1,1]) # original point\n",
        "\n",
        "lower_left = np.array([0.5, 0.5])\n",
        "lower_right = np.array([1.5, 1.5])\n",
        "upper_left = np.array([-0.5, 0.5])\n",
        "upper_right = np.array([1.5, 0.5])\n",
        "\n",
        "projection = project_coords(orig_coords, lower_left, lower_right, upper_left, upper_right)\n",
        "assert(np.linalg.norm(projection-np.array([0.5,0])) == 0) # test\n",
        "print(projection)"
      ],
      "metadata": {
        "colab": {
          "base_uri": "https://localhost:8080/"
        },
        "id": "7wG1wFnNB6kG",
        "outputId": "47bc47e4-2f0d-403c-e522-455ab95ebcf8"
      },
      "execution_count": null,
      "outputs": [
        {
          "output_type": "stream",
          "name": "stdout",
          "text": [
            "[0.5 0. ]\n"
          ]
        }
      ]
    },
    {
      "cell_type": "markdown",
      "source": [
        "# Making a heatmap\n",
        "\n",
        "Of player position. Sample actual position every second and create a 2-D gaussian probability distribution, then sum these together."
      ],
      "metadata": {
        "id": "UZZIPqk-OW0O"
      }
    },
    {
      "cell_type": "code",
      "source": [
        "# input normalized positions scaled 0 to 1\n",
        "def position_distribution(long_size, xpos, ypos, pos_std):\n",
        "  ratio = 3/5\n",
        "  short_size = int(ratio*long_size)\n",
        "  big_zeros = np.zeros((long_size, short_size))\n",
        "  if xpos<0 or ypos<0:\n",
        "    return big_zeros\n",
        "  x,y = int(short_size*xpos), int(long_size*ypos)\n",
        "  lim_x, lim_y = int(3*pos_std*short_size), int(3*pos_std*long_size)\n",
        "\n",
        "  # limits\n",
        "  left = max(0, x-lim_x)\n",
        "  right = min(short_size, x+lim_x)\n",
        "  top = max(0, y-lim_y)\n",
        "  bottom = min(long_size, y+lim_y)\n",
        "\n",
        "  small_x, small_y = np.meshgrid(range(left, right), range(top, bottom))\n",
        "  dists = (((small_x-x)/ratio)**2+(small_y-y)**2).astype(\"float\") # do we need the ellipse or should we stick with circle?\n",
        "  vals = np.exp(-dists/2/(pos_std*long_size)**2)\n",
        "\n",
        "  big_zeros[top:bottom, left:right] = vals\n",
        "\n",
        "  # note the data is inverted, so plot with origin = \"lower\"\n",
        "\n",
        "  return big_zeros"
      ],
      "metadata": {
        "id": "3yELR7rzOU1L"
      },
      "execution_count": null,
      "outputs": []
    },
    {
      "cell_type": "code",
      "source": [
        "# test a single distribution\n",
        "test_values = position_distribution(1000, 0.1, 0.3, 0.1)\n",
        "plt.imshow(test_values, origin=\"lower\")\n",
        "plt.colorbar()\n",
        "plt.show()"
      ],
      "metadata": {
        "colab": {
          "base_uri": "https://localhost:8080/",
          "height": 435
        },
        "id": "AMN70aD9QVTF",
        "outputId": "9b64f4ba-5ec2-497b-ac96-fffebb6e1d7e"
      },
      "execution_count": null,
      "outputs": [
        {
          "output_type": "display_data",
          "data": {
            "text/plain": [
              "<Figure size 640x480 with 2 Axes>"
            ],
            "image/png": "[encoded data removed]"
          },
          "metadata": {}
        }
      ]
    },
    {
      "cell_type": "code",
      "source": [
        "# using position_distribution(), create a heatmap\n",
        "# data should contain only coordinates\n",
        "# pos_std determines width of Gaussian\n",
        "# size is the number of elements in each dimension\n",
        "# skip is how many GPS data points per sample\n",
        "def create_heatmap(data, pos_std=0.03, long_size=1000, skip=10):\n",
        "  ratio = 3/5\n",
        "  short_size = int(ratio*long_size)\n",
        "  player_heatmap = np.zeros((long_size, short_size)).astype(\"float\")\n",
        "  nums_samp = data.shape[0]//skip\n",
        "  x_positions =  data.iloc[:,0]\n",
        "  y_positions = data.iloc[:,1]\n",
        "\n",
        "  for i in range(nums_samp):\n",
        "    player_heatmap += position_distribution(long_size, x_positions.iloc[skip*i], y_positions.iloc[skip*i], pos_std)\n",
        "\n",
        "  return player_heatmap"
      ],
      "metadata": {
        "id": "KT9KCiqSRAmG"
      },
      "execution_count": null,
      "outputs": []
    },
    {
      "cell_type": "markdown",
      "source": [
        "# Overlay figure on field"
      ],
      "metadata": {
        "id": "ZLhBcTcnKfOi"
      }
    },
    {
      "cell_type": "code",
      "source": [
        "# import img, imshow with proper scaled labels\n",
        "def create_background(height=8, ratio=3/5, scale=10, show_axis=False):\n",
        "  field_img = plt.imread(\"/content/drive/MyDrive/PennAthletics/Team_Internal/Data/cropped_fh.jpg\")\n",
        "  height = 8\n",
        "  width = ratio*height\n",
        "  y_size, x_size, _ = field_img.shape\n",
        "  plt.figure(figsize=(height, width))\n",
        "  plt.imshow(field_img, origin=\"lower\")\n",
        "\n",
        "  if show_axis:\n",
        "    plt.xticks(ticks=np.linspace(0,x_size,4), labels=np.linspace(0,x_size/scale,4).astype(\"int\"))\n",
        "    plt.yticks(ticks=np.linspace(0,y_size,6), labels=np.linspace(0,y_size/scale,6).astype(\"int\"))\n",
        "\n",
        "  else:\n",
        "    plt.xticks(ticks=[])\n",
        "    plt.yticks(ticks=[])\n",
        "\n",
        "  return scale\n",
        "\n",
        "# example usage/test case\n",
        "scale = create_background()\n",
        "field_x = np.array([-10,30,70,50])\n",
        "field_y = np.array([10,40,20,110])\n",
        "plt.plot(scale*field_x, scale*field_y, \"r-\", lw=5)\n",
        "plt.show()"
      ],
      "metadata": {
        "colab": {
          "base_uri": "https://localhost:8080/",
          "height": 406
        },
        "id": "slcm-gBfKm1D",
        "outputId": "7ad5dd63-f04d-4c69-f43f-6da7f2f5628a"
      },
      "execution_count": null,
      "outputs": [
        {
          "output_type": "display_data",
          "data": {
            "text/plain": [
              "<Figure size 800x480 with 1 Axes>"
            ],
            "image/png": "[encoded data removed]"
          },
          "metadata": {}
        }
      ]
    },
    {
      "cell_type": "markdown",
      "source": [
        "# Collecting specific data"
      ],
      "metadata": {
        "id": "NVaSMLRqB0E5"
      }
    },
    {
      "cell_type": "code",
      "source": [
        "# grab the data from a past amount of time given a player and the time\n",
        "# options is an iterable that could include: \"CSV\", \"scatter\", \"heatmap\"\n",
        "def gather_data(data, timestamp, players=None, time_before=60, options=None):\n",
        "  # default - get all players\n",
        "  if players is None:\n",
        "    players = data[\"athlete\"].unique()\n",
        "\n",
        "  # filter data\n",
        "    filtered_data = data.query(\"athlete in @players\").reset_index(drop=True)\n",
        "\n",
        "    end_index = (filtered_data[filtered_data[\"Timestamp\"] == timestamp]).index\n",
        "    end_index = np.array(end_index)\n",
        "\n",
        "  # get relevant data\n",
        "  time_step = 0.1\n",
        "  num_records = np.min([end_index.min(), int(time_before/time_step)])\n",
        "  start_index = end_index-num_records+1 # either 0 or the end-num for each value\n",
        "\n",
        "  # loop through and append to one dataframe\n",
        "  datasets = []\n",
        "  for i in range(len(start_index)):\n",
        "    data = filtered_data.iloc[start_index[i]:end_index[i]+1]\n",
        "    datasets.append(data)\n",
        "\n",
        "  final_data = pd.concat(datasets)\n",
        "\n",
        "  # produce outputs\n",
        "  if options:\n",
        "    if \"scatter\" in options:\n",
        "      scale = create_background()\n",
        "      for player in final_data[\"athlete\"].unique():\n",
        "        player_data = final_data.query(\"athlete == @player\")\n",
        "        plt.scatter(scale*X_size_yd*player_data[\"X_frac\"],\n",
        "                    scale*Y_size_yd*player_data[\"Y_frac\"],\n",
        "                    c=np.linspace(0,1,player_data.index.size),\n",
        "                    cmap=\"Blues\",\n",
        "                    s=0.1)\n",
        "      plt.show()\n",
        "    if \"CSV\" in options:\n",
        "      folder = \"/content/drive/MyDrive/PennAthletics/Team_Internal/Data/Processed Data/\"\n",
        "      final_data.to_csv(folder+f\"{game} for {time_before} seconds before {timestamp}.csv\")\n",
        "    if \"heatmap\" in options:\n",
        "      positions = create_heatmap(final_data[[\"X_frac\", \"Y_frac\"]], skip=1)\n",
        "      plt.imshow(positions, origin=\"lower\", cmap=\"gray\")\n",
        "      plt.show()\n",
        "\n",
        "  return final_data"
      ],
      "metadata": {
        "id": "qMaRFfc_teG8"
      },
      "execution_count": null,
      "outputs": []
    },
    {
      "cell_type": "markdown",
      "source": [
        "## Load specific events\n",
        "\n",
        "Notes:\n",
        "\n",
        "Outletting allows for penn to counterattack.\n",
        "\n",
        "COEF = 1. means good for penn, -1. means bad.\n",
        "\n",
        "There are 147 unlabeled events - drop?\n",
        "\n",
        "Seq is the game index. Not important."
      ],
      "metadata": {
        "id": "BvCI5nbnCJ-f"
      }
    },
    {
      "cell_type": "code",
      "source": [
        "def create_timestamp(frame):\n",
        "  game_date, start_time, game_time = frame[[\"Date\", \"Time\", \"time_game\"]].values\n",
        "  d = datetime.strptime(game_date, '%B %d')\n",
        "  x = datetime.strptime(start_time, '%H:%M:%S')+timedelta(seconds=round(game_time,1))\n",
        "  return '2022' + d.strftime('-%m-%d') + ' ' + x.strftime('%H:%M:%S.%f')[:-3]"
      ],
      "metadata": {
        "id": "dKY5Cry4hRDE"
      },
      "execution_count": null,
      "outputs": []
    },
    {
      "cell_type": "code",
      "source": [
        "events = pd.read_csv(\"/content/drive/MyDrive/PennAthletics/data/FH event data XML files /FH_events_2022_season.csv\", sep=\",\")\n",
        "events.rename(columns={\"t_quater\":\"t_quarter\"}, inplace=True)\n",
        "events[\"category\"] = events[\"category\"].replace({'oponent':'opponent'})\n",
        "events.head(2)"
      ],
      "metadata": {
        "colab": {
          "base_uri": "https://localhost:8080/",
          "height": 240
        },
        "id": "vxZTA9T0CNL6",
        "outputId": "687c8d74-68d5-4e57-930d-a81fb2cc92c1"
      },
      "execution_count": null,
      "outputs": [
        {
          "output_type": "execute_result",
          "data": {
            "text/plain": [
              "       code             OP   ID        start          end  time_game  \\\n",
              "0  25 Entry         Temple  152  3304.650000  3319.650000    3287.13   \n",
              "1  25 Entry  BostonCollege  158  3599.088667  3619.088667    3607.50   \n",
              "\n",
              "  is_OT_game  time_Q1  time_Q2  time_Q3  ...          Date      Time    At  \\\n",
              "0         OT      NaN      NaN   365.14  ...  September 25  12:00:00  Away   \n",
              "1         OT      NaN      NaN   940.72  ...   September 9  15:00:00  Home   \n",
              "\n",
              "  W_L  Result      code_2 category COEF time_win_quarter t_quarter  \n",
              "0   W     2-0  P 25 Entry     penn  1.0           365.14        Q3  \n",
              "1   L  1-2 SO  P 25 Entry     penn  1.0           940.72        Q3  \n",
              "\n",
              "[2 rows x 23 columns]"
            ],
            "text/html": [
              "\n",
              "  <div id=\"df-f38be50e-f30a-492c-a97b-ebb6206bab9e\">\n",
              "    <div class=\"colab-df-container\">\n",
              "      <div>\n",
              "<style scoped>\n",
              "    .dataframe tbody tr th:only-of-type {\n",
              "        vertical-align: middle;\n",
              "    }\n",
              "\n",
              "    .dataframe tbody tr th {\n",
              "        vertical-align: top;\n",
              "    }\n",
              "\n",
              "    .dataframe thead th {\n",
              "        text-align: right;\n",
              "    }\n",
              "</style>\n",
              "<table border=\"1\" class=\"dataframe\">\n",
              "  <thead>\n",
              "    <tr style=\"text-align: right;\">\n",
              "      <th></th>\n",
              "      <th>code</th>\n",
              "      <th>OP</th>\n",
              "      <th>ID</th>\n",
              "      <th>start</th>\n",
              "      <th>end</th>\n",
              "      <th>time_game</th>\n",
              "      <th>is_OT_game</th>\n",
              "      <th>time_Q1</th>\n",
              "      <th>time_Q2</th>\n",
              "      <th>time_Q3</th>\n",
              "      <th>...</th>\n",
              "      <th>Date</th>\n",
              "      <th>Time</th>\n",
              "      <th>At</th>\n",
              "      <th>W_L</th>\n",
              "      <th>Result</th>\n",
              "      <th>code_2</th>\n",
              "      <th>category</th>\n",
              "      <th>COEF</th>\n",
              "      <th>time_win_quarter</th>\n",
              "      <th>t_quarter</th>\n",
              "    </tr>\n",
              "  </thead>\n",
              "  <tbody>\n",
              "    <tr>\n",
              "      <th>0</th>\n",
              "      <td>25 Entry</td>\n",
              "      <td>Temple</td>\n",
              "      <td>152</td>\n",
              "      <td>3304.650000</td>\n",
              "      <td>3319.650000</td>\n",
              "      <td>3287.13</td>\n",
              "      <td>OT</td>\n",
              "      <td>NaN</td>\n",
              "      <td>NaN</td>\n",
              "      <td>365.14</td>\n",
              "      <td>...</td>\n",
              "      <td>September 25</td>\n",
              "      <td>12:00:00</td>\n",
              "      <td>Away</td>\n",
              "      <td>W</td>\n",
              "      <td>2-0</td>\n",
              "      <td>P 25 Entry</td>\n",
              "      <td>penn</td>\n",
              "      <td>1.0</td>\n",
              "      <td>365.14</td>\n",
              "      <td>Q3</td>\n",
              "    </tr>\n",
              "    <tr>\n",
              "      <th>1</th>\n",
              "      <td>25 Entry</td>\n",
              "      <td>BostonCollege</td>\n",
              "      <td>158</td>\n",
              "      <td>3599.088667</td>\n",
              "      <td>3619.088667</td>\n",
              "      <td>3607.50</td>\n",
              "      <td>OT</td>\n",
              "      <td>NaN</td>\n",
              "      <td>NaN</td>\n",
              "      <td>940.72</td>\n",
              "      <td>...</td>\n",
              "      <td>September 9</td>\n",
              "      <td>15:00:00</td>\n",
              "      <td>Home</td>\n",
              "      <td>L</td>\n",
              "      <td>1-2 SO</td>\n",
              "      <td>P 25 Entry</td>\n",
              "      <td>penn</td>\n",
              "      <td>1.0</td>\n",
              "      <td>940.72</td>\n",
              "      <td>Q3</td>\n",
              "    </tr>\n",
              "  </tbody>\n",
              "</table>\n",
              "<p>2 rows × 23 columns</p>\n",
              "</div>\n",
              "      <button class=\"colab-df-convert\" onclick=\"convertToInteractive('df-f38be50e-f30a-492c-a97b-ebb6206bab9e')\"\n",
              "              title=\"Convert this dataframe to an interactive table.\"\n",
              "              style=\"display:none;\">\n",
              "        \n",
              "  <svg xmlns=\"http://www.w3.org/2000/svg\" height=\"24px\"viewBox=\"0 0 24 24\"\n",
              "       width=\"24px\">\n",
              "    <path d=\"M0 0h24v24H0V0z\" fill=\"none\"/>\n",
              "    <path d=\"M18.56 5.44l.94 2.06.94-2.06 2.06-.94-2.06-.94-.94-2.06-.94 2.06-2.06.94zm-11 1L8.5 8.5l.94-2.06 2.06-.94-2.06-.94L8.5 2.5l-.94 2.06-2.06.94zm10 10l.94 2.06.94-2.06 2.06-.94-2.06-.94-.94-2.06-.94 2.06-2.06.94z\"/><path d=\"M17.41 7.96l-1.37-1.37c-.4-.4-.92-.59-1.43-.59-.52 0-1.04.2-1.43.59L10.3 9.45l-7.72 7.72c-.78.78-.78 2.05 0 2.83L4 21.41c.39.39.9.59 1.41.59.51 0 1.02-.2 1.41-.59l7.78-7.78 2.81-2.81c.8-.78.8-2.07 0-2.86zM5.41 20L4 18.59l7.72-7.72 1.47 1.35L5.41 20z\"/>\n",
              "  </svg>\n",
              "      </button>\n",
              "      \n",
              "  <style>\n",
              "    .colab-df-container {\n",
              "      display:flex;\n",
              "      flex-wrap:wrap;\n",
              "      gap: 12px;\n",
              "    }\n",
              "\n",
              "    .colab-df-convert {\n",
              "      background-color: #E8F0FE;\n",
              "      border: none;\n",
              "      border-radius: 50%;\n",
              "      cursor: pointer;\n",
              "      display: none;\n",
              "      fill: #1967D2;\n",
              "      height: 32px;\n",
              "      padding: 0 0 0 0;\n",
              "      width: 32px;\n",
              "    }\n",
              "\n",
              "    .colab-df-convert:hover {\n",
              "      background-color: #E2EBFA;\n",
              "      box-shadow: 0px 1px 2px rgba(60, 64, 67, 0.3), 0px 1px 3px 1px rgba(60, 64, 67, 0.15);\n",
              "      fill: #174EA6;\n",
              "    }\n",
              "\n",
              "    [theme=dark] .colab-df-convert {\n",
              "      background-color: #3B4455;\n",
              "      fill: #D2E3FC;\n",
              "    }\n",
              "\n",
              "    [theme=dark] .colab-df-convert:hover {\n",
              "      background-color: #434B5C;\n",
              "      box-shadow: 0px 1px 3px 1px rgba(0, 0, 0, 0.15);\n",
              "      filter: drop-shadow(0px 1px 2px rgba(0, 0, 0, 0.3));\n",
              "      fill: #FFFFFF;\n",
              "    }\n",
              "  </style>\n",
              "\n",
              "      <script>\n",
              "        const buttonEl =\n",
              "          document.querySelector('#df-f38be50e-f30a-492c-a97b-ebb6206bab9e button.colab-df-convert');\n",
              "        buttonEl.style.display =\n",
              "          google.colab.kernel.accessAllowed ? 'block' : 'none';\n",
              "\n",
              "        async function convertToInteractive(key) {\n",
              "          const element = document.querySelector('#df-f38be50e-f30a-492c-a97b-ebb6206bab9e');\n",
              "          const dataTable =\n",
              "            await google.colab.kernel.invokeFunction('convertToInteractive',\n",
              "                                                     [key], {});\n",
              "          if (!dataTable) return;\n",
              "\n",
              "          const docLinkHtml = 'Like what you see? Visit the ' +\n",
              "            '<a target=\"_blank\" href=https://colab.research.google.com/notebooks/data_table.ipynb>data table notebook</a>'\n",
              "            + ' to learn more about interactive tables.';\n",
              "          element.innerHTML = '';\n",
              "          dataTable['output_type'] = 'display_data';\n",
              "          await google.colab.output.renderOutput(dataTable, element);\n",
              "          const docLink = document.createElement('div');\n",
              "          docLink.innerHTML = docLinkHtml;\n",
              "          element.appendChild(docLink);\n",
              "        }\n",
              "      </script>\n",
              "    </div>\n",
              "  </div>\n",
              "  "
            ]
          },
          "metadata": {},
          "execution_count": 24
        }
      ]
    },
    {
      "cell_type": "code",
      "source": [
        "events.query(\"At == 'Home'\").groupby(\"OP\")[\"Result\"].unique()"
      ],
      "metadata": {
        "colab": {
          "base_uri": "https://localhost:8080/"
        },
        "id": "g_sc7Iw-mNhC",
        "outputId": "ecff1489-5540-4c65-dc53-9f48994de3ee"
      },
      "execution_count": null,
      "outputs": [
        {
          "output_type": "execute_result",
          "data": {
            "text/plain": [
              "OP\n",
              "BostonCollege    [1-2 SO]\n",
              "Brown               [3-2]\n",
              "Columbia            [7-2]\n",
              "Delaware            [4-1]\n",
              "Harvard             [1-2]\n",
              "LIU                 [2-0]\n",
              "Northwestern        [3-4]\n",
              "Villanova        [1-2 OT]\n",
              "Name: Result, dtype: object"
            ]
          },
          "metadata": {},
          "execution_count": 14
        }
      ]
    },
    {
      "cell_type": "code",
      "source": [
        "GPS_data[\"game\"].unique()"
      ],
      "metadata": {
        "colab": {
          "base_uri": "https://localhost:8080/"
        },
        "id": "b7_-HBc0oM85",
        "outputId": "c0d82f8f-92b2-4afc-d917-bc01f0c5244d"
      },
      "execution_count": null,
      "outputs": [
        {
          "output_type": "execute_result",
          "data": {
            "text/plain": [
              "array(['BostonCollege', 'Brown', 'Columbia', 'Delaware', 'Harvard', 'LIU',\n",
              "       'Northwestern', 'Temple', 'Yale'], dtype=object)"
            ]
          },
          "metadata": {},
          "execution_count": 15
        }
      ]
    },
    {
      "cell_type": "code",
      "source": [
        "event_dict= pd.read_csv(\"/content/drive/MyDrive/PennAthletics/data/FH event data XML files /FH event codes.csv\", sep=\",\")\n",
        "event_dict.head()"
      ],
      "metadata": {
        "colab": {
          "base_uri": "https://localhost:8080/",
          "height": 206
        },
        "id": "gUFxvNdZFTZN",
        "outputId": "6e183835-dd93-47df-b6ca-696e656e2306"
      },
      "execution_count": null,
      "outputs": [
        {
          "output_type": "execute_result",
          "data": {
            "text/plain": [
              "       code_raw        code_2 category  \\\n",
              "0    O 25 Entry    O 25 Entry  oponent   \n",
              "1      25 Entry    P 25 Entry     penn   \n",
              "2  O Circle Pen  O Circle Pen  oponent   \n",
              "3    Circle Pen  P Circle Pen     penn   \n",
              "4     O Earn PC     O Earn PC  oponent   \n",
              "\n",
              "                                         description  \n",
              "0                   Opponent enters our defensive 25  \n",
              "1                       Penn enters our attacking 25  \n",
              "2                         Opponent enters our circle  \n",
              "3                   Penn enters our attacking circle  \n",
              "4  Opponent wins a penalty corner, draws a foul (...  "
            ],
            "text/html": [
              "\n",
              "  <div id=\"df-1ad4efe7-24e8-4f91-8550-0f6c0c9a5f5b\">\n",
              "    <div class=\"colab-df-container\">\n",
              "      <div>\n",
              "<style scoped>\n",
              "    .dataframe tbody tr th:only-of-type {\n",
              "        vertical-align: middle;\n",
              "    }\n",
              "\n",
              "    .dataframe tbody tr th {\n",
              "        vertical-align: top;\n",
              "    }\n",
              "\n",
              "    .dataframe thead th {\n",
              "        text-align: right;\n",
              "    }\n",
              "</style>\n",
              "<table border=\"1\" class=\"dataframe\">\n",
              "  <thead>\n",
              "    <tr style=\"text-align: right;\">\n",
              "      <th></th>\n",
              "      <th>code_raw</th>\n",
              "      <th>code_2</th>\n",
              "      <th>category</th>\n",
              "      <th>description</th>\n",
              "    </tr>\n",
              "  </thead>\n",
              "  <tbody>\n",
              "    <tr>\n",
              "      <th>0</th>\n",
              "      <td>O 25 Entry</td>\n",
              "      <td>O 25 Entry</td>\n",
              "      <td>oponent</td>\n",
              "      <td>Opponent enters our defensive 25</td>\n",
              "    </tr>\n",
              "    <tr>\n",
              "      <th>1</th>\n",
              "      <td>25 Entry</td>\n",
              "      <td>P 25 Entry</td>\n",
              "      <td>penn</td>\n",
              "      <td>Penn enters our attacking 25</td>\n",
              "    </tr>\n",
              "    <tr>\n",
              "      <th>2</th>\n",
              "      <td>O Circle Pen</td>\n",
              "      <td>O Circle Pen</td>\n",
              "      <td>oponent</td>\n",
              "      <td>Opponent enters our circle</td>\n",
              "    </tr>\n",
              "    <tr>\n",
              "      <th>3</th>\n",
              "      <td>Circle Pen</td>\n",
              "      <td>P Circle Pen</td>\n",
              "      <td>penn</td>\n",
              "      <td>Penn enters our attacking circle</td>\n",
              "    </tr>\n",
              "    <tr>\n",
              "      <th>4</th>\n",
              "      <td>O Earn PC</td>\n",
              "      <td>O Earn PC</td>\n",
              "      <td>oponent</td>\n",
              "      <td>Opponent wins a penalty corner, draws a foul (...</td>\n",
              "    </tr>\n",
              "  </tbody>\n",
              "</table>\n",
              "</div>\n",
              "      <button class=\"colab-df-convert\" onclick=\"convertToInteractive('df-1ad4efe7-24e8-4f91-8550-0f6c0c9a5f5b')\"\n",
              "              title=\"Convert this dataframe to an interactive table.\"\n",
              "              style=\"display:none;\">\n",
              "        \n",
              "  <svg xmlns=\"http://www.w3.org/2000/svg\" height=\"24px\"viewBox=\"0 0 24 24\"\n",
              "       width=\"24px\">\n",
              "    <path d=\"M0 0h24v24H0V0z\" fill=\"none\"/>\n",
              "    <path d=\"M18.56 5.44l.94 2.06.94-2.06 2.06-.94-2.06-.94-.94-2.06-.94 2.06-2.06.94zm-11 1L8.5 8.5l.94-2.06 2.06-.94-2.06-.94L8.5 2.5l-.94 2.06-2.06.94zm10 10l.94 2.06.94-2.06 2.06-.94-2.06-.94-.94-2.06-.94 2.06-2.06.94z\"/><path d=\"M17.41 7.96l-1.37-1.37c-.4-.4-.92-.59-1.43-.59-.52 0-1.04.2-1.43.59L10.3 9.45l-7.72 7.72c-.78.78-.78 2.05 0 2.83L4 21.41c.39.39.9.59 1.41.59.51 0 1.02-.2 1.41-.59l7.78-7.78 2.81-2.81c.8-.78.8-2.07 0-2.86zM5.41 20L4 18.59l7.72-7.72 1.47 1.35L5.41 20z\"/>\n",
              "  </svg>\n",
              "      </button>\n",
              "      \n",
              "  <style>\n",
              "    .colab-df-container {\n",
              "      display:flex;\n",
              "      flex-wrap:wrap;\n",
              "      gap: 12px;\n",
              "    }\n",
              "\n",
              "    .colab-df-convert {\n",
              "      background-color: #E8F0FE;\n",
              "      border: none;\n",
              "      border-radius: 50%;\n",
              "      cursor: pointer;\n",
              "      display: none;\n",
              "      fill: #1967D2;\n",
              "      height: 32px;\n",
              "      padding: 0 0 0 0;\n",
              "      width: 32px;\n",
              "    }\n",
              "\n",
              "    .colab-df-convert:hover {\n",
              "      background-color: #E2EBFA;\n",
              "      box-shadow: 0px 1px 2px rgba(60, 64, 67, 0.3), 0px 1px 3px 1px rgba(60, 64, 67, 0.15);\n",
              "      fill: #174EA6;\n",
              "    }\n",
              "\n",
              "    [theme=dark] .colab-df-convert {\n",
              "      background-color: #3B4455;\n",
              "      fill: #D2E3FC;\n",
              "    }\n",
              "\n",
              "    [theme=dark] .colab-df-convert:hover {\n",
              "      background-color: #434B5C;\n",
              "      box-shadow: 0px 1px 3px 1px rgba(0, 0, 0, 0.15);\n",
              "      filter: drop-shadow(0px 1px 2px rgba(0, 0, 0, 0.3));\n",
              "      fill: #FFFFFF;\n",
              "    }\n",
              "  </style>\n",
              "\n",
              "      <script>\n",
              "        const buttonEl =\n",
              "          document.querySelector('#df-1ad4efe7-24e8-4f91-8550-0f6c0c9a5f5b button.colab-df-convert');\n",
              "        buttonEl.style.display =\n",
              "          google.colab.kernel.accessAllowed ? 'block' : 'none';\n",
              "\n",
              "        async function convertToInteractive(key) {\n",
              "          const element = document.querySelector('#df-1ad4efe7-24e8-4f91-8550-0f6c0c9a5f5b');\n",
              "          const dataTable =\n",
              "            await google.colab.kernel.invokeFunction('convertToInteractive',\n",
              "                                                     [key], {});\n",
              "          if (!dataTable) return;\n",
              "\n",
              "          const docLinkHtml = 'Like what you see? Visit the ' +\n",
              "            '<a target=\"_blank\" href=https://colab.research.google.com/notebooks/data_table.ipynb>data table notebook</a>'\n",
              "            + ' to learn more about interactive tables.';\n",
              "          element.innerHTML = '';\n",
              "          dataTable['output_type'] = 'display_data';\n",
              "          await google.colab.output.renderOutput(dataTable, element);\n",
              "          const docLink = document.createElement('div');\n",
              "          docLink.innerHTML = docLinkHtml;\n",
              "          element.appendChild(docLink);\n",
              "        }\n",
              "      </script>\n",
              "    </div>\n",
              "  </div>\n",
              "  "
            ]
          },
          "metadata": {},
          "execution_count": 23
        }
      ]
    },
    {
      "cell_type": "code",
      "source": [
        "events_joined = events.copy()\n",
        "# convert to appropriate start time\n",
        "events_joined[\"Time\"] = list(map(lambda x: start_times_dict[x], events[\"OP\"]))\n",
        "\n",
        "# turn times into a stamp like '2022-10-15 11:32:01.700'\n",
        "events_joined[\"Timestamp\"] = events_joined.aggregate(func=create_timestamp, axis=1)\n",
        "\n",
        "# map event names\n",
        "mapping = event_dict.set_index(\"code_2\")[\"description\"]\n",
        "events_joined[\"event_name\"] = events_joined[\"code_2\"].map(mapping)\n",
        "\n",
        "# drop extra data\n",
        "drop_cols = [\"code\", \"start\", \"end\", \"time_Q1\", \"time_Q2\", \"time_Q3\", \"time_OT\", \"time_Q4\", \"ID\", \"Date\", \"Time\", \"time_game\", \"is_OT_game\", \"seq\"]\n",
        "events_joined.drop(columns=drop_cols, inplace=True)\n",
        "events_joined.dropna(inplace=True)\n",
        "print(events_joined.shape)\n",
        "\n",
        "events_joined.query(\"OP == 'Northwestern'\").head(2)"
      ],
      "metadata": {
        "colab": {
          "base_uri": "https://localhost:8080/",
          "height": 173
        },
        "id": "5Vw0VK_MNLXQ",
        "outputId": "d8bad9ca-1994-4ee9-9089-cfbb3a88ed22"
      },
      "execution_count": null,
      "outputs": [
        {
          "output_type": "stream",
          "name": "stdout",
          "text": [
            "(4205, 11)\n"
          ]
        },
        {
          "output_type": "execute_result",
          "data": {
            "text/plain": [
              "              OP    At W_L Result      code_2 category  COEF  \\\n",
              "3   Northwestern  Home   L    3-4  P 25 Entry     penn   1.0   \n",
              "39  Northwestern  Home   L    3-4  P 25 Entry     penn   1.0   \n",
              "\n",
              "    time_win_quarter t_quarter                Timestamp  \\\n",
              "3             563.36        Q3  2022-09-16 16:14:08.300   \n",
              "39           1381.77        Q2  2022-09-16 15:51:11.500   \n",
              "\n",
              "                      event_name  \n",
              "3   Penn enters our attacking 25  \n",
              "39  Penn enters our attacking 25  "
            ],
            "text/html": [
              "\n",
              "  <div id=\"df-80635b3a-8781-4653-9bda-dafb1ed34dbb\">\n",
              "    <div class=\"colab-df-container\">\n",
              "      <div>\n",
              "<style scoped>\n",
              "    .dataframe tbody tr th:only-of-type {\n",
              "        vertical-align: middle;\n",
              "    }\n",
              "\n",
              "    .dataframe tbody tr th {\n",
              "        vertical-align: top;\n",
              "    }\n",
              "\n",
              "    .dataframe thead th {\n",
              "        text-align: right;\n",
              "    }\n",
              "</style>\n",
              "<table border=\"1\" class=\"dataframe\">\n",
              "  <thead>\n",
              "    <tr style=\"text-align: right;\">\n",
              "      <th></th>\n",
              "      <th>OP</th>\n",
              "      <th>At</th>\n",
              "      <th>W_L</th>\n",
              "      <th>Result</th>\n",
              "      <th>code_2</th>\n",
              "      <th>category</th>\n",
              "      <th>COEF</th>\n",
              "      <th>time_win_quarter</th>\n",
              "      <th>t_quarter</th>\n",
              "      <th>Timestamp</th>\n",
              "      <th>event_name</th>\n",
              "    </tr>\n",
              "  </thead>\n",
              "  <tbody>\n",
              "    <tr>\n",
              "      <th>3</th>\n",
              "      <td>Northwestern</td>\n",
              "      <td>Home</td>\n",
              "      <td>L</td>\n",
              "      <td>3-4</td>\n",
              "      <td>P 25 Entry</td>\n",
              "      <td>penn</td>\n",
              "      <td>1.0</td>\n",
              "      <td>563.36</td>\n",
              "      <td>Q3</td>\n",
              "      <td>2022-09-16 16:14:08.300</td>\n",
              "      <td>Penn enters our attacking 25</td>\n",
              "    </tr>\n",
              "    <tr>\n",
              "      <th>39</th>\n",
              "      <td>Northwestern</td>\n",
              "      <td>Home</td>\n",
              "      <td>L</td>\n",
              "      <td>3-4</td>\n",
              "      <td>P 25 Entry</td>\n",
              "      <td>penn</td>\n",
              "      <td>1.0</td>\n",
              "      <td>1381.77</td>\n",
              "      <td>Q2</td>\n",
              "      <td>2022-09-16 15:51:11.500</td>\n",
              "      <td>Penn enters our attacking 25</td>\n",
              "    </tr>\n",
              "  </tbody>\n",
              "</table>\n",
              "</div>\n",
              "      <button class=\"colab-df-convert\" onclick=\"convertToInteractive('df-80635b3a-8781-4653-9bda-dafb1ed34dbb')\"\n",
              "              title=\"Convert this dataframe to an interactive table.\"\n",
              "              style=\"display:none;\">\n",
              "        \n",
              "  <svg xmlns=\"http://www.w3.org/2000/svg\" height=\"24px\"viewBox=\"0 0 24 24\"\n",
              "       width=\"24px\">\n",
              "    <path d=\"M0 0h24v24H0V0z\" fill=\"none\"/>\n",
              "    <path d=\"M18.56 5.44l.94 2.06.94-2.06 2.06-.94-2.06-.94-.94-2.06-.94 2.06-2.06.94zm-11 1L8.5 8.5l.94-2.06 2.06-.94-2.06-.94L8.5 2.5l-.94 2.06-2.06.94zm10 10l.94 2.06.94-2.06 2.06-.94-2.06-.94-.94-2.06-.94 2.06-2.06.94z\"/><path d=\"M17.41 7.96l-1.37-1.37c-.4-.4-.92-.59-1.43-.59-.52 0-1.04.2-1.43.59L10.3 9.45l-7.72 7.72c-.78.78-.78 2.05 0 2.83L4 21.41c.39.39.9.59 1.41.59.51 0 1.02-.2 1.41-.59l7.78-7.78 2.81-2.81c.8-.78.8-2.07 0-2.86zM5.41 20L4 18.59l7.72-7.72 1.47 1.35L5.41 20z\"/>\n",
              "  </svg>\n",
              "      </button>\n",
              "      \n",
              "  <style>\n",
              "    .colab-df-container {\n",
              "      display:flex;\n",
              "      flex-wrap:wrap;\n",
              "      gap: 12px;\n",
              "    }\n",
              "\n",
              "    .colab-df-convert {\n",
              "      background-color: #E8F0FE;\n",
              "      border: none;\n",
              "      border-radius: 50%;\n",
              "      cursor: pointer;\n",
              "      display: none;\n",
              "      fill: #1967D2;\n",
              "      height: 32px;\n",
              "      padding: 0 0 0 0;\n",
              "      width: 32px;\n",
              "    }\n",
              "\n",
              "    .colab-df-convert:hover {\n",
              "      background-color: #E2EBFA;\n",
              "      box-shadow: 0px 1px 2px rgba(60, 64, 67, 0.3), 0px 1px 3px 1px rgba(60, 64, 67, 0.15);\n",
              "      fill: #174EA6;\n",
              "    }\n",
              "\n",
              "    [theme=dark] .colab-df-convert {\n",
              "      background-color: #3B4455;\n",
              "      fill: #D2E3FC;\n",
              "    }\n",
              "\n",
              "    [theme=dark] .colab-df-convert:hover {\n",
              "      background-color: #434B5C;\n",
              "      box-shadow: 0px 1px 3px 1px rgba(0, 0, 0, 0.15);\n",
              "      filter: drop-shadow(0px 1px 2px rgba(0, 0, 0, 0.3));\n",
              "      fill: #FFFFFF;\n",
              "    }\n",
              "  </style>\n",
              "\n",
              "      <script>\n",
              "        const buttonEl =\n",
              "          document.querySelector('#df-80635b3a-8781-4653-9bda-dafb1ed34dbb button.colab-df-convert');\n",
              "        buttonEl.style.display =\n",
              "          google.colab.kernel.accessAllowed ? 'block' : 'none';\n",
              "\n",
              "        async function convertToInteractive(key) {\n",
              "          const element = document.querySelector('#df-80635b3a-8781-4653-9bda-dafb1ed34dbb');\n",
              "          const dataTable =\n",
              "            await google.colab.kernel.invokeFunction('convertToInteractive',\n",
              "                                                     [key], {});\n",
              "          if (!dataTable) return;\n",
              "\n",
              "          const docLinkHtml = 'Like what you see? Visit the ' +\n",
              "            '<a target=\"_blank\" href=https://colab.research.google.com/notebooks/data_table.ipynb>data table notebook</a>'\n",
              "            + ' to learn more about interactive tables.';\n",
              "          element.innerHTML = '';\n",
              "          dataTable['output_type'] = 'display_data';\n",
              "          await google.colab.output.renderOutput(dataTable, element);\n",
              "          const docLink = document.createElement('div');\n",
              "          docLink.innerHTML = docLinkHtml;\n",
              "          element.appendChild(docLink);\n",
              "        }\n",
              "      </script>\n",
              "    </div>\n",
              "  </div>\n",
              "  "
            ]
          },
          "metadata": {},
          "execution_count": 25
        }
      ]
    },
    {
      "cell_type": "markdown",
      "source": [
        "Algorithm for matching timestamps.\n",
        "\n",
        "1) In the GPS data, find the latest time when all players are still and line up in the starting positions. This corresponds to the start of the game. Watch the Box video to find the video time of game start. This allows us to find the time the video began.\n",
        "\n",
        "2) Use the event data to find the event timestamp of the first goal.\n",
        "\n",
        "3) Scroll around that area in the video to find when that happens.\n",
        "\n",
        "4) Calculate the timestamp that corresponds with time 0 in the event data. The actual time of the first goal equals (Video time of goal) - (Video time of game start) + (Actual time of game start). Use the difference between this and the time shown in the event data to update the start time of recording of the event data.\n",
        "\n",
        "5) Verify these times align properly."
      ],
      "metadata": {
        "id": "sXSOIOJxh6oB"
      }
    },
    {
      "cell_type": "code",
      "source": [
        "events.iloc[1062]"
      ],
      "metadata": {
        "colab": {
          "base_uri": "https://localhost:8080/"
        },
        "id": "3qT_pX6W3F4O",
        "outputId": "ff549ed2-19f7-4261-d8a5-4ec927265acb"
      },
      "execution_count": null,
      "outputs": [
        {
          "output_type": "execute_result",
          "data": {
            "text/plain": [
              "code                        Goal\n",
              "OP                  Northwestern\n",
              "ID                           211\n",
              "start                    4530.05\n",
              "end                      4547.05\n",
              "time_game                4534.82\n",
              "is_OT_game                    OT\n",
              "time_Q1                      NaN\n",
              "time_Q2                      NaN\n",
              "time_Q3                  1059.88\n",
              "time_OT                      NaN\n",
              "time_Q4                      NaN\n",
              "seq                            5\n",
              "Date                September 16\n",
              "Time                    15:00:00\n",
              "At                          Home\n",
              "W_L                            L\n",
              "Result                       3-4\n",
              "code_2                    P Goal\n",
              "category                    penn\n",
              "COEF                         1.0\n",
              "time_win_quarter         1059.88\n",
              "t_quarter                     Q3\n",
              "Name: 1062, dtype: object"
            ]
          },
          "metadata": {},
          "execution_count": 26
        }
      ]
    },
    {
      "cell_type": "code",
      "source": [
        "# test a chosen event stamp\n",
        "stamp = '2022-09-16 15:07:15.000'\n",
        "print(stamp)\n",
        "test_data = gather_data(GPS_data, stamp, players=None, time_before=10, options=[\"scatter\"])"
      ],
      "metadata": {
        "id": "TubISgcHPBc0"
      },
      "execution_count": null,
      "outputs": []
    },
    {
      "cell_type": "markdown",
      "source": [
        "Northwestern\n",
        "\n",
        "Actual time of game start: 15:07:15\n",
        "\n",
        "Video time of game start: 6:05\n",
        "\n",
        "Event data time of goal: 15:32:45\n",
        "\n",
        "Video time of goal: 00:38:45\n",
        "\n",
        "Video start time: 15:01:10\n",
        "\n",
        "Actual time of goal: 15:39:55\n",
        "\n",
        "Event start time: 15:07:10\n"
      ],
      "metadata": {
        "id": "nM7XjbEDjx8c"
      }
    },
    {
      "cell_type": "code",
      "source": [
        "# test an actual event stamp\n",
        "goal_event = 'Penn goal – captures 12 seconds before the goal and 4 seconds after'\n",
        "goals = events_joined.query(\"event_name == @goal_event\")\n",
        "for i in range(3):\n",
        "  stamp = goals[goals[\"OP\"] == \"Northwestern\"][\"Timestamp\"].iloc[i]\n",
        "  print(stamp)\n",
        "  test_data = gather_data(GPS_data, stamp, players=None, time_before=40, options=[\"scatter\"])"
      ],
      "metadata": {
        "colab": {
          "base_uri": "https://localhost:8080/",
          "height": 1000
        },
        "id": "_8_5Fkfv8fUi",
        "outputId": "17dc13d1-f4ba-495a-e94c-46b1c6c757a8"
      },
      "execution_count": null,
      "outputs": [
        {
          "output_type": "stream",
          "name": "stdout",
          "text": [
            "2022-09-16 15:52:08.700\n"
          ]
        },
        {
          "output_type": "display_data",
          "data": {
            "text/plain": [
              "<Figure size 800x480 with 1 Axes>"
            ],
            "image/png": "[encoded data removed]"
          },
          "metadata": {}
        },
        {
          "output_type": "stream",
          "name": "stdout",
          "text": [
            "2022-09-16 16:22:24.800\n"
          ]
        },
        {
          "output_type": "display_data",
          "data": {
            "text/plain": [
              "<Figure size 800x480 with 1 Axes>"
            ],
            "image/png": "[encoded data removed]"
          },
          "metadata": {}
        },
        {
          "output_type": "stream",
          "name": "stdout",
          "text": [
            "2022-09-16 15:39:37.600\n"
          ]
        },
        {
          "output_type": "display_data",
          "data": {
            "text/plain": [
              "<Figure size 800x480 with 1 Axes>"
            ],
            "image/png": "[encoded data removed]"
          },
          "metadata": {}
        }
      ]
    },
    {
      "cell_type": "code",
      "source": [
        "all_goals_map = np.zeros([1000, 600])\n",
        "for opp, time in goals[[\"OP\", \"Timestamp\"]].values:\n",
        "  try:\n",
        "    this_data = gather_data(GPS_data, time, opp)\n",
        "    all_goals_map += create_heatmap(this_data[[\"X frac\", \"Y frac\"]], pos_std=0.03, long_size=1000, skip=10)\n",
        "  except:\n",
        "    KeyError\n",
        "\n",
        "plt.imshow(all_goals_map)\n",
        "plt.show()"
      ],
      "metadata": {
        "id": "nlgPOyqYVcVz"
      },
      "execution_count": null,
      "outputs": []
    }
  ],
  "metadata": {
    "colab": {
      "provenance": [],
      "toc_visible": true
    },
    "kernelspec": {
      "display_name": "Python 3",
      "name": "python3"
    },
    "language_info": {
      "name": "python"
    }
  },
  "nbformat": 4,
  "nbformat_minor": 0
}